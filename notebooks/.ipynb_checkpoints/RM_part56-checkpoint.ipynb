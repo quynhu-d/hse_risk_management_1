{
 "cells": [
  {
   "cell_type": "markdown",
   "id": "fa847f1b-7312-40ea-9358-8bb19d6e31fe",
   "metadata": {
    "id": "0Rwt_3KM-Xqb",
    "jp-MarkdownHeadingCollapsed": true
   },
   "source": [
    "## Библиотеки"
   ]
  },
  {
   "cell_type": "code",
   "execution_count": 1,
   "id": "46abdccf-341f-4979-b913-bead29c4b160",
   "metadata": {
    "id": "ime8aCa2sliE"
   },
   "outputs": [],
   "source": [
    "import pandas as pd\n",
    "import numpy as np\n",
    "\n",
    "import datetime\n",
    "from datetime import datetime\n",
    "\n",
    "from tqdm.auto import tqdm, trange\n",
    "from copy import copy, deepcopy\n",
    "\n",
    "import sys\n",
    "import warnings\n",
    "warnings.simplefilter(\"ignore\")\n",
    "\n",
    "\n",
    "import matplotlib.pyplot as plt\n",
    "import plotly.express as px\n",
    "import seaborn as sns\n",
    "sns.set_style('whitegrid')"
   ]
  },
  {
   "cell_type": "code",
   "execution_count": 2,
   "id": "73eab470-6c1c-4630-858a-b12b7a0820d5",
   "metadata": {
    "id": "gdgfaKIwpgFq"
   },
   "outputs": [],
   "source": [
    "import statsmodels.api as sm\n",
    "from sklearn.linear_model import LinearRegression\n",
    "from statsmodels.api import OLS\n",
    "\n",
    "from sklearn.metrics import mean_squared_error, mean_absolute_error, mean_absolute_percentage_error"
   ]
  },
  {
   "cell_type": "code",
   "execution_count": 3,
   "id": "0ceeb753-7071-4de2-a535-543b6f084329",
   "metadata": {
    "id": "tjj9PqvAcfXa"
   },
   "outputs": [],
   "source": [
    "folder = './'"
   ]
  },
  {
   "cell_type": "code",
   "execution_count": 4,
   "id": "0cc1e92b-43dc-465c-99df-bf82629c9c51",
   "metadata": {
    "colab": {
     "base_uri": "https://localhost:8080/"
    },
    "id": "ptRlAPvYiGfy",
    "outputId": "567f349f-d482-48dd-b6a1-4eb0b85179dd"
   },
   "outputs": [
    {
     "data": {
      "text/plain": [
       "RandomState(MT19937) at 0x28816B03940"
      ]
     },
     "execution_count": 4,
     "metadata": {},
     "output_type": "execute_result"
    }
   ],
   "source": [
    "random_seed = 42\n",
    "np.random.RandomState(seed=random_seed)"
   ]
  },
  {
   "cell_type": "markdown",
   "id": "c265e57d-e475-43e3-b551-1a15eabaeaea",
   "metadata": {
    "id": "WU4JSmPBu09J",
    "jp-MarkdownHeadingCollapsed": true
   },
   "source": [
    "## Загрузка данных"
   ]
  },
  {
   "cell_type": "code",
   "execution_count": 5,
   "id": "7e1c05b7-5b6d-4104-90c9-7cc9ae177245",
   "metadata": {
    "id": "ECoY0YPickyo"
   },
   "outputs": [],
   "source": [
    "data = pd.read_excel(folder+'Final_data.xlsx')"
   ]
  },
  {
   "cell_type": "code",
   "execution_count": 6,
   "id": "b2e2714c-ea71-459f-9f5e-5794690444a2",
   "metadata": {
    "colab": {
     "base_uri": "https://localhost:8080/"
    },
    "id": "eZGXDt7UC2ZU",
    "outputId": "32bc38be-1fd0-4e9e-947b-c91ecbcce008"
   },
   "outputs": [
    {
     "name": "stdout",
     "output_type": "stream",
     "text": [
      "(2922, 32) \n",
      "\n",
      "Index(['Date', 'Курс доллара', 'Курс евро', 'Нефть', 'МосБиржа', 'РТС',\n",
      "       'Золото', 'Серебро', 'Платина', 'КБД 0.25', 'КБД 0.5', 'КБД 1', 'КБД 5',\n",
      "       'КБД 10', 'КБД 15', 'КБД 20', 'КБД 30', 'ОФЗ_26207', 'ОФЗ_26215',\n",
      "       'ОФЗ_26218', 'ОФЗ_26219', 'ОФЗ_26222', 'Аэрофлот', 'Газпром',\n",
      "       'ГМК Норникель', 'Лукойл', 'МТС', 'ПИК', 'Роснефть', 'Сбербанк',\n",
      "       'Татнефть', 'Яндекс'],\n",
      "      dtype='object') \n",
      "\n"
     ]
    }
   ],
   "source": [
    "print(data.shape, '\\n')\n",
    "\n",
    "print(data.columns, '\\n')"
   ]
  },
  {
   "cell_type": "code",
   "execution_count": 17,
   "id": "5c1e86a3-16c2-49b8-a2dd-b75644e420b3",
   "metadata": {},
   "outputs": [],
   "source": [
    "indexes = ['Нефть', \"МосБиржа\", \"РТС\", \"Золото\", \"Серебро\", \"Платина\"]\n",
    "stocks = [\n",
    "    'Аэрофлот', 'Газпром', 'ГМК Норникель', 'Лукойл', 'МТС', \n",
    "    'ПИК', 'Роснефть', 'Сбербанк', 'Татнефть', 'Яндекс'\n",
    "]\n",
    "bonds = ['ОФЗ_26207', 'ОФЗ_26215', 'ОФЗ_26218', 'ОФЗ_26219', 'ОФЗ_26222']\n",
    "currencies = ['Курс доллара', \"Курс евро\"]\n",
    "rates = ['КБД 0.25', 'КБД 0.5', 'КБД 1', 'КБД 5', 'КБД 10', 'КБД 15', 'КБД 20', 'КБД 30']"
   ]
  },
  {
   "cell_type": "code",
   "execution_count": 7,
   "id": "35b6dd0d-446c-46c8-9cd6-c32151916823",
   "metadata": {
    "id": "RGwZ2GTBB_s1"
   },
   "outputs": [],
   "source": [
    "# Заполнение пропусков\n",
    "data.fillna(method='bfill', inplace=True)\n",
    "data.fillna(method='ffill', inplace=True)"
   ]
  },
  {
   "cell_type": "markdown",
   "id": "0f360700-344e-4604-a6f8-86596b4edd63",
   "metadata": {
    "id": "AHeDM9BD__U7",
    "jp-MarkdownHeadingCollapsed": true
   },
   "source": [
    "### Разбиение данных"
   ]
  },
  {
   "cell_type": "code",
   "execution_count": 8,
   "id": "f414f63b-9f7e-4795-8397-521252132163",
   "metadata": {
    "id": "_BJu1cptAD3a"
   },
   "outputs": [],
   "source": [
    "def split_data(df, split_date, start_date=None, end_date=None):\n",
    "    train = df[df.Date <= split_date]\n",
    "    test = df[df.Date > split_date]\n",
    "    if start_date is not None:\n",
    "        train = train[train.Date >= start_date]\n",
    "    if end_date is not None:\n",
    "        test = test[test.Date <= end_date]\n",
    "    return train, test"
   ]
  },
  {
   "cell_type": "code",
   "execution_count": 9,
   "id": "bff5c215-a139-4ccc-8f2f-4be1ee6ac7c9",
   "metadata": {
    "colab": {
     "base_uri": "https://localhost:8080/"
    },
    "id": "PQ8L_XKoANgk",
    "outputId": "393b3916-697d-49f8-f08e-d5d195dbcb28"
   },
   "outputs": [
    {
     "name": "stdout",
     "output_type": "stream",
     "text": [
      "2717 205\n"
     ]
    }
   ],
   "source": [
    "#разбиваем данные на train и test по дате\n",
    "\n",
    "df_train, df_test = split_data(data, split_date='2022-06-09')\n",
    "print(df_train.shape[0], df_test.shape[0])"
   ]
  },
  {
   "cell_type": "markdown",
   "id": "6207b964-842e-47bd-9c32-f8bd70e9e979",
   "metadata": {},
   "source": [
    "## 3. SM"
   ]
  },
  {
   "cell_type": "code",
   "execution_count": 15,
   "id": "a3f97168-e019-4559-87ef-f73a6a289a9c",
   "metadata": {},
   "outputs": [
    {
     "name": "stdout",
     "output_type": "stream",
     "text": [
      "13\n"
     ]
    }
   ],
   "source": [
    "risk_factors = ['Курс доллара', 'Курс евро', 'Нефть', 'МосБиржа', 'РТС',\n",
    "       'Золото', 'Серебро', 'Платина', 'КБД 0.25', 'КБД 1', 'КБД 5', 'КБД 10', 'КБД 20']\n",
    "\n",
    "print(len(risk_factors))"
   ]
  },
  {
   "cell_type": "code",
   "execution_count": 12,
   "id": "4e65a016-1ebe-47f0-b470-290d7445318f",
   "metadata": {},
   "outputs": [],
   "source": [
    "from stoch_models import Stoch_Models, generate_dW_corr"
   ]
  },
  {
   "cell_type": "code",
   "execution_count": 16,
   "id": "9ab70885-755e-4def-ac19-70d80e81c10f",
   "metadata": {},
   "outputs": [
    {
     "data": {
      "application/vnd.jupyter.widget-view+json": {
       "model_id": "269a1c8d4e6f4f768ead28901ce0c905",
       "version_major": 2,
       "version_minor": 0
      },
      "text/plain": [
       "  0%|          | 0/13 [00:00<?, ?it/s]"
      ]
     },
     "metadata": {},
     "output_type": "display_data"
    }
   ],
   "source": [
    "# для всех риск факторов моделируем значения на будущее\n",
    "\n",
    "N_traj = 100\n",
    "df_res = {}\n",
    "dt = np.diff(list(data.index))\n",
    "dW_corr = generate_dW_corr(data[risk_factors], dt=dt, w0=0, N_traj=N_traj)  # correlated\n",
    "for factor, dWn in tqdm(zip(risk_factors, dW_corr), total=len(risk_factors)):\n",
    "    sm = Stoch_Models(factor_name=factor,\n",
    "                  value_train = df_train[factor].values, value_test = df_test[factor].values,\n",
    "                  t_train = list(df_train.index), t_test = list(df_test.index),\n",
    "                  models=['m1', 'm2', 'm3'], N_traj=N_traj, dW_N=dWn)\n",
    "    sm.choose_model(metric='mape', plot_all=0, plot_best=0, print_metric=0)\n",
    "    df_res[factor] = sm"
   ]
  },
  {
   "cell_type": "markdown",
   "id": "b8e1a505-37cf-48d5-a82b-d79b3cc4651a",
   "metadata": {},
   "source": [
    "## 4. Pseudo simulated instruments"
   ]
  },
  {
   "cell_type": "code",
   "execution_count": 18,
   "id": "162a2478-b47b-483c-b0a9-8bb729ad6590",
   "metadata": {},
   "outputs": [
    {
     "data": {
      "application/vnd.jupyter.widget-view+json": {
       "model_id": "1282dd6608394655aecfd19ae6dc4aa8",
       "version_major": 2,
       "version_minor": 0
      },
      "text/plain": [
       "  0%|          | 0/5 [00:00<?, ?it/s]"
      ]
     },
     "metadata": {},
     "output_type": "display_data"
    }
   ],
   "source": [
    "N_traj = 100\n",
    "dt = np.diff(list(data.index))\n",
    "bonds_sim = {}\n",
    "dt = np.diff(list(data.index))\n",
    "for b in tqdm(bonds):\n",
    "    sm = Stoch_Models(factor_name=b,\n",
    "          value_train = df_train[b].values, value_test = df_test[b].values,\n",
    "          t_train = list(df_train.index), t_test = list(df_test.index),\n",
    "          models=['m1', 'm2', 'm3'], N_traj=N_traj\n",
    "    )\n",
    "    sm.choose_model(metric='mape', plot_all=0, plot_best=0, print_metric=0)\n",
    "    bonds_sim[b] = sm"
   ]
  },
  {
   "cell_type": "code",
   "execution_count": 35,
   "id": "6d39b7e7-9390-49fc-88ba-612a3778592a",
   "metadata": {},
   "outputs": [],
   "source": [
    "instrument_sim = {}\n",
    "for bond_name in bonds:\n",
    "    sm = bonds_sim[bond_name]\n",
    "    best_m = sm.find_best_model()\n",
    "    instrument_sim[bond_name] = np.hstack([sm.simulations[best_m], sm.future_simulation()])"
   ]
  },
  {
   "cell_type": "code",
   "execution_count": 37,
   "id": "c426f64b-b552-4e0f-adb8-dc675a1d61e3",
   "metadata": {},
   "outputs": [
    {
     "data": {
      "text/plain": [
       "(100, 2922)"
      ]
     },
     "execution_count": 37,
     "metadata": {},
     "output_type": "execute_result"
    }
   ],
   "source": [
    "instrument_sim['ОФЗ_26207'].shape"
   ]
  },
  {
   "cell_type": "markdown",
   "id": "c5ad9933-9f95-4296-8d89-4970a74187c0",
   "metadata": {},
   "source": [
    "## 5. VaR + ES"
   ]
  },
  {
   "cell_type": "code",
   "execution_count": 52,
   "id": "9b9d586c-ba77-47f5-92e4-fe8bcb8d4d58",
   "metadata": {},
   "outputs": [],
   "source": [
    "def get_returns(data):\n",
    "    return pd.DataFrame(data).T.pct_change()[1:].to_numpy()"
   ]
  },
  {
   "cell_type": "code",
   "execution_count": 53,
   "id": "957c7872-6972-48e8-8feb-f7f5e59b74d5",
   "metadata": {},
   "outputs": [],
   "source": [
    "pct_change = get_returns(instrument_sim['ОФЗ_26207'])"
   ]
  },
  {
   "cell_type": "code",
   "execution_count": null,
   "id": "b3f932e4-00ea-46c4-9458-e889c0bdf1f2",
   "metadata": {},
   "outputs": [],
   "source": [
    "plt.figure(figsize=(20,6))\n",
    "plt.plot(pct_change, linewidth=.7);"
   ]
  }
 ],
 "metadata": {
  "kernelspec": {
   "display_name": "Python 3 (ipykernel)",
   "language": "python",
   "name": "python3"
  },
  "language_info": {
   "codemirror_mode": {
    "name": "ipython",
    "version": 3
   },
   "file_extension": ".py",
   "mimetype": "text/x-python",
   "name": "python",
   "nbconvert_exporter": "python",
   "pygments_lexer": "ipython3",
   "version": "3.9.9"
  }
 },
 "nbformat": 4,
 "nbformat_minor": 5
}
