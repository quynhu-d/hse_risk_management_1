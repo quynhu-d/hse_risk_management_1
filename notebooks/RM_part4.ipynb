{
  "nbformat": 4,
  "nbformat_minor": 0,
  "metadata": {
    "colab": {
      "provenance": [],
      "include_colab_link": true
    },
    "kernelspec": {
      "name": "python3",
      "display_name": "Python 3"
    },
    "language_info": {
      "name": "python"
    },
    "widgets": {
      "application/vnd.jupyter.widget-state+json": {
        "b9820991fff5439cb5cb2655517a94e0": {
          "model_module": "@jupyter-widgets/controls",
          "model_name": "HBoxModel",
          "model_module_version": "1.5.0",
          "state": {
            "_dom_classes": [],
            "_model_module": "@jupyter-widgets/controls",
            "_model_module_version": "1.5.0",
            "_model_name": "HBoxModel",
            "_view_count": null,
            "_view_module": "@jupyter-widgets/controls",
            "_view_module_version": "1.5.0",
            "_view_name": "HBoxView",
            "box_style": "",
            "children": [
              "IPY_MODEL_1e3a09fbcf4a4380bb6ec89b6895fc28",
              "IPY_MODEL_9e71b76ec5b649d5bb1f504c971c1dee",
              "IPY_MODEL_112234c242eb42e4b4601cb0aab189ac"
            ],
            "layout": "IPY_MODEL_88c0e7f501624a8d83a2d72349380c4c"
          }
        },
        "1e3a09fbcf4a4380bb6ec89b6895fc28": {
          "model_module": "@jupyter-widgets/controls",
          "model_name": "HTMLModel",
          "model_module_version": "1.5.0",
          "state": {
            "_dom_classes": [],
            "_model_module": "@jupyter-widgets/controls",
            "_model_module_version": "1.5.0",
            "_model_name": "HTMLModel",
            "_view_count": null,
            "_view_module": "@jupyter-widgets/controls",
            "_view_module_version": "1.5.0",
            "_view_name": "HTMLView",
            "description": "",
            "description_tooltip": null,
            "layout": "IPY_MODEL_b692c081d38b42f180db1a7d1643ca24",
            "placeholder": "​",
            "style": "IPY_MODEL_1efdcaa04c144013ad76955112df317e",
            "value": "100%"
          }
        },
        "9e71b76ec5b649d5bb1f504c971c1dee": {
          "model_module": "@jupyter-widgets/controls",
          "model_name": "FloatProgressModel",
          "model_module_version": "1.5.0",
          "state": {
            "_dom_classes": [],
            "_model_module": "@jupyter-widgets/controls",
            "_model_module_version": "1.5.0",
            "_model_name": "FloatProgressModel",
            "_view_count": null,
            "_view_module": "@jupyter-widgets/controls",
            "_view_module_version": "1.5.0",
            "_view_name": "ProgressView",
            "bar_style": "success",
            "description": "",
            "description_tooltip": null,
            "layout": "IPY_MODEL_121c08e76ed74028add4fbb73a5ed513",
            "max": 13,
            "min": 0,
            "orientation": "horizontal",
            "style": "IPY_MODEL_64b5e49cccdc435da133d0a66c635e2e",
            "value": 13
          }
        },
        "112234c242eb42e4b4601cb0aab189ac": {
          "model_module": "@jupyter-widgets/controls",
          "model_name": "HTMLModel",
          "model_module_version": "1.5.0",
          "state": {
            "_dom_classes": [],
            "_model_module": "@jupyter-widgets/controls",
            "_model_module_version": "1.5.0",
            "_model_name": "HTMLModel",
            "_view_count": null,
            "_view_module": "@jupyter-widgets/controls",
            "_view_module_version": "1.5.0",
            "_view_name": "HTMLView",
            "description": "",
            "description_tooltip": null,
            "layout": "IPY_MODEL_852d6f1cb4b7431eb526bc8783da7ab9",
            "placeholder": "​",
            "style": "IPY_MODEL_dfe3ab4fceb14fd4a0996a6af66ba934",
            "value": " 13/13 [00:25&lt;00:00,  2.12s/it]"
          }
        },
        "88c0e7f501624a8d83a2d72349380c4c": {
          "model_module": "@jupyter-widgets/base",
          "model_name": "LayoutModel",
          "model_module_version": "1.2.0",
          "state": {
            "_model_module": "@jupyter-widgets/base",
            "_model_module_version": "1.2.0",
            "_model_name": "LayoutModel",
            "_view_count": null,
            "_view_module": "@jupyter-widgets/base",
            "_view_module_version": "1.2.0",
            "_view_name": "LayoutView",
            "align_content": null,
            "align_items": null,
            "align_self": null,
            "border": null,
            "bottom": null,
            "display": null,
            "flex": null,
            "flex_flow": null,
            "grid_area": null,
            "grid_auto_columns": null,
            "grid_auto_flow": null,
            "grid_auto_rows": null,
            "grid_column": null,
            "grid_gap": null,
            "grid_row": null,
            "grid_template_areas": null,
            "grid_template_columns": null,
            "grid_template_rows": null,
            "height": null,
            "justify_content": null,
            "justify_items": null,
            "left": null,
            "margin": null,
            "max_height": null,
            "max_width": null,
            "min_height": null,
            "min_width": null,
            "object_fit": null,
            "object_position": null,
            "order": null,
            "overflow": null,
            "overflow_x": null,
            "overflow_y": null,
            "padding": null,
            "right": null,
            "top": null,
            "visibility": null,
            "width": null
          }
        },
        "b692c081d38b42f180db1a7d1643ca24": {
          "model_module": "@jupyter-widgets/base",
          "model_name": "LayoutModel",
          "model_module_version": "1.2.0",
          "state": {
            "_model_module": "@jupyter-widgets/base",
            "_model_module_version": "1.2.0",
            "_model_name": "LayoutModel",
            "_view_count": null,
            "_view_module": "@jupyter-widgets/base",
            "_view_module_version": "1.2.0",
            "_view_name": "LayoutView",
            "align_content": null,
            "align_items": null,
            "align_self": null,
            "border": null,
            "bottom": null,
            "display": null,
            "flex": null,
            "flex_flow": null,
            "grid_area": null,
            "grid_auto_columns": null,
            "grid_auto_flow": null,
            "grid_auto_rows": null,
            "grid_column": null,
            "grid_gap": null,
            "grid_row": null,
            "grid_template_areas": null,
            "grid_template_columns": null,
            "grid_template_rows": null,
            "height": null,
            "justify_content": null,
            "justify_items": null,
            "left": null,
            "margin": null,
            "max_height": null,
            "max_width": null,
            "min_height": null,
            "min_width": null,
            "object_fit": null,
            "object_position": null,
            "order": null,
            "overflow": null,
            "overflow_x": null,
            "overflow_y": null,
            "padding": null,
            "right": null,
            "top": null,
            "visibility": null,
            "width": null
          }
        },
        "1efdcaa04c144013ad76955112df317e": {
          "model_module": "@jupyter-widgets/controls",
          "model_name": "DescriptionStyleModel",
          "model_module_version": "1.5.0",
          "state": {
            "_model_module": "@jupyter-widgets/controls",
            "_model_module_version": "1.5.0",
            "_model_name": "DescriptionStyleModel",
            "_view_count": null,
            "_view_module": "@jupyter-widgets/base",
            "_view_module_version": "1.2.0",
            "_view_name": "StyleView",
            "description_width": ""
          }
        },
        "121c08e76ed74028add4fbb73a5ed513": {
          "model_module": "@jupyter-widgets/base",
          "model_name": "LayoutModel",
          "model_module_version": "1.2.0",
          "state": {
            "_model_module": "@jupyter-widgets/base",
            "_model_module_version": "1.2.0",
            "_model_name": "LayoutModel",
            "_view_count": null,
            "_view_module": "@jupyter-widgets/base",
            "_view_module_version": "1.2.0",
            "_view_name": "LayoutView",
            "align_content": null,
            "align_items": null,
            "align_self": null,
            "border": null,
            "bottom": null,
            "display": null,
            "flex": null,
            "flex_flow": null,
            "grid_area": null,
            "grid_auto_columns": null,
            "grid_auto_flow": null,
            "grid_auto_rows": null,
            "grid_column": null,
            "grid_gap": null,
            "grid_row": null,
            "grid_template_areas": null,
            "grid_template_columns": null,
            "grid_template_rows": null,
            "height": null,
            "justify_content": null,
            "justify_items": null,
            "left": null,
            "margin": null,
            "max_height": null,
            "max_width": null,
            "min_height": null,
            "min_width": null,
            "object_fit": null,
            "object_position": null,
            "order": null,
            "overflow": null,
            "overflow_x": null,
            "overflow_y": null,
            "padding": null,
            "right": null,
            "top": null,
            "visibility": null,
            "width": null
          }
        },
        "64b5e49cccdc435da133d0a66c635e2e": {
          "model_module": "@jupyter-widgets/controls",
          "model_name": "ProgressStyleModel",
          "model_module_version": "1.5.0",
          "state": {
            "_model_module": "@jupyter-widgets/controls",
            "_model_module_version": "1.5.0",
            "_model_name": "ProgressStyleModel",
            "_view_count": null,
            "_view_module": "@jupyter-widgets/base",
            "_view_module_version": "1.2.0",
            "_view_name": "StyleView",
            "bar_color": null,
            "description_width": ""
          }
        },
        "852d6f1cb4b7431eb526bc8783da7ab9": {
          "model_module": "@jupyter-widgets/base",
          "model_name": "LayoutModel",
          "model_module_version": "1.2.0",
          "state": {
            "_model_module": "@jupyter-widgets/base",
            "_model_module_version": "1.2.0",
            "_model_name": "LayoutModel",
            "_view_count": null,
            "_view_module": "@jupyter-widgets/base",
            "_view_module_version": "1.2.0",
            "_view_name": "LayoutView",
            "align_content": null,
            "align_items": null,
            "align_self": null,
            "border": null,
            "bottom": null,
            "display": null,
            "flex": null,
            "flex_flow": null,
            "grid_area": null,
            "grid_auto_columns": null,
            "grid_auto_flow": null,
            "grid_auto_rows": null,
            "grid_column": null,
            "grid_gap": null,
            "grid_row": null,
            "grid_template_areas": null,
            "grid_template_columns": null,
            "grid_template_rows": null,
            "height": null,
            "justify_content": null,
            "justify_items": null,
            "left": null,
            "margin": null,
            "max_height": null,
            "max_width": null,
            "min_height": null,
            "min_width": null,
            "object_fit": null,
            "object_position": null,
            "order": null,
            "overflow": null,
            "overflow_x": null,
            "overflow_y": null,
            "padding": null,
            "right": null,
            "top": null,
            "visibility": null,
            "width": null
          }
        },
        "dfe3ab4fceb14fd4a0996a6af66ba934": {
          "model_module": "@jupyter-widgets/controls",
          "model_name": "DescriptionStyleModel",
          "model_module_version": "1.5.0",
          "state": {
            "_model_module": "@jupyter-widgets/controls",
            "_model_module_version": "1.5.0",
            "_model_name": "DescriptionStyleModel",
            "_view_count": null,
            "_view_module": "@jupyter-widgets/base",
            "_view_module_version": "1.2.0",
            "_view_name": "StyleView",
            "description_width": ""
          }
        }
      }
    }
  },
  "cells": [
    {
      "cell_type": "markdown",
      "metadata": {
        "id": "view-in-github",
        "colab_type": "text"
      },
      "source": [
        "<a href=\"https://colab.research.google.com/github/quynhu-d/hse_risk_management_1/blob/main/notebooks/RM_part4.ipynb\" target=\"_parent\"><img src=\"https://colab.research.google.com/assets/colab-badge.svg\" alt=\"Open In Colab\"/></a>"
      ]
    },
    {
      "cell_type": "markdown",
      "source": [
        "# Проект"
      ],
      "metadata": {
        "id": "C6Jbcw0Qex_j"
      }
    },
    {
      "cell_type": "markdown",
      "source": [
        "## Библиотеки"
      ],
      "metadata": {
        "id": "Do7N4S0Fe4cQ"
      }
    },
    {
      "cell_type": "code",
      "source": [
        "import pandas as pd\n",
        "import numpy as np\n",
        "\n",
        "import datetime\n",
        "from datetime import datetime\n",
        "\n",
        "from tqdm.auto import tqdm, trange\n",
        "from copy import copy, deepcopy\n",
        "\n",
        "import yfinance as yf\n",
        "\n",
        "import sys\n",
        "import warnings\n",
        "warnings.simplefilter(\"ignore\")\n",
        "from tqdm.auto import tqdm\n",
        "\n",
        "\n",
        "import matplotlib.pyplot as plt\n",
        "import plotly.express as px\n",
        "import seaborn as sns\n",
        "sns.set_style('whitegrid')"
      ],
      "metadata": {
        "id": "9sxPJuMue9XM"
      },
      "execution_count": null,
      "outputs": []
    },
    {
      "cell_type": "code",
      "execution_count": null,
      "metadata": {
        "id": "2WHDtzCGesN_"
      },
      "outputs": [],
      "source": [
        "import statsmodels.api as sm\n",
        "from sklearn.linear_model import LinearRegression\n",
        "from statsmodels.api import OLS\n",
        "\n",
        "from sklearn.metrics import mean_squared_error, mean_absolute_error, mean_absolute_percentage_error"
      ]
    },
    {
      "cell_type": "code",
      "source": [
        "from google.colab import drive\n",
        "drive.mount('/content/drive')"
      ],
      "metadata": {
        "colab": {
          "base_uri": "https://localhost:8080/"
        },
        "id": "d1I1ASejfBsg",
        "outputId": "e0c6fc20-fd12-413a-a85c-b0e32770c465"
      },
      "execution_count": null,
      "outputs": [
        {
          "output_type": "stream",
          "name": "stdout",
          "text": [
            "Mounted at /content/drive\n"
          ]
        }
      ]
    },
    {
      "cell_type": "code",
      "source": [
        "folder = '/content/drive/MyDrive/RM_project/'"
      ],
      "metadata": {
        "id": "fzgIg8M7fDUf"
      },
      "execution_count": null,
      "outputs": []
    },
    {
      "cell_type": "code",
      "source": [
        "random_seed = 42\n",
        "np.random.RandomState(seed=random_seed)"
      ],
      "metadata": {
        "colab": {
          "base_uri": "https://localhost:8080/"
        },
        "id": "dXQc1ntQfE8p",
        "outputId": "af6cdddf-9c06-420d-d569-fbda48f6146f"
      },
      "execution_count": null,
      "outputs": [
        {
          "output_type": "execute_result",
          "data": {
            "text/plain": [
              "RandomState(MT19937) at 0x7FD70B30D240"
            ]
          },
          "metadata": {},
          "execution_count": 5
        }
      ]
    },
    {
      "cell_type": "code",
      "source": [
        "from stoch_models import *"
      ],
      "metadata": {
        "id": "0bhXPgC9fFZI"
      },
      "execution_count": null,
      "outputs": []
    },
    {
      "cell_type": "markdown",
      "source": [
        "## Загрузка данных"
      ],
      "metadata": {
        "id": "LB8UuztxfprS"
      }
    },
    {
      "cell_type": "code",
      "source": [
        "data = pd.read_excel(folder+'Final_data.xlsx')\n",
        "# data = pd.read_excel('./Final_data.xlsx')"
      ],
      "metadata": {
        "id": "ECoY0YPickyo"
      },
      "execution_count": null,
      "outputs": []
    },
    {
      "cell_type": "code",
      "source": [
        "print(data.shape, '\\n')\n",
        "\n",
        "print(data.columns, '\\n')"
      ],
      "metadata": {
        "colab": {
          "base_uri": "https://localhost:8080/"
        },
        "id": "eZGXDt7UC2ZU",
        "outputId": "b1a4403f-edea-4fa6-f58a-eb660ea6badb"
      },
      "execution_count": null,
      "outputs": [
        {
          "output_type": "stream",
          "name": "stdout",
          "text": [
            "(2922, 32) \n",
            "\n",
            "Index(['Date', 'Курс доллара', 'Курс евро', 'Нефть', 'МосБиржа', 'РТС',\n",
            "       'Золото', 'Серебро', 'Платина', 'КБД 0.25', 'КБД 0.5', 'КБД 1', 'КБД 5',\n",
            "       'КБД 10', 'КБД 15', 'КБД 20', 'КБД 30', 'ОФЗ_26207', 'ОФЗ_26215',\n",
            "       'ОФЗ_26218', 'ОФЗ_26219', 'ОФЗ_26222', 'Аэрофлот', 'Газпром',\n",
            "       'ГМК Норникель', 'Лукойл', 'МТС', 'ПИК', 'Роснефть', 'Сбербанк',\n",
            "       'Татнефть', 'Яндекс'],\n",
            "      dtype='object') \n",
            "\n"
          ]
        }
      ]
    },
    {
      "cell_type": "code",
      "source": [
        "# Заполнение пропусков\n",
        "data.fillna(method='bfill', inplace=True)\n",
        "data.fillna(method='ffill', inplace=True)"
      ],
      "metadata": {
        "id": "RGwZ2GTBB_s1"
      },
      "execution_count": null,
      "outputs": []
    },
    {
      "cell_type": "markdown",
      "source": [
        "### Разбиение данных"
      ],
      "metadata": {
        "id": "AHeDM9BD__U7"
      }
    },
    {
      "cell_type": "code",
      "source": [
        "def split_data(df, split_date, start_date=None, end_date=None):\n",
        "    train = df[df.Date <= split_date]\n",
        "    test = df[df.Date > split_date]\n",
        "    if start_date is not None:\n",
        "        train = train[train.Date >= start_date]\n",
        "    if end_date is not None:\n",
        "        test = test[test.Date <= end_date]\n",
        "    return train, test"
      ],
      "metadata": {
        "id": "_BJu1cptAD3a"
      },
      "execution_count": null,
      "outputs": []
    },
    {
      "cell_type": "code",
      "source": [
        "#разбиваем данные на train и test по дате\n",
        "\n",
        "df_train, df_test = split_data(data, split_date='2022-06-09')\n",
        "print(df_train.shape[0], df_test.shape[0])"
      ],
      "metadata": {
        "colab": {
          "base_uri": "https://localhost:8080/"
        },
        "id": "PQ8L_XKoANgk",
        "outputId": "2b96a8c0-0c8c-47f9-ede7-86be25119bb5"
      },
      "execution_count": null,
      "outputs": [
        {
          "output_type": "stream",
          "name": "stdout",
          "text": [
            "2717 205\n"
          ]
        }
      ]
    },
    {
      "cell_type": "markdown",
      "source": [
        "## Часть 4: оценка справедливой стоимости"
      ],
      "metadata": {
        "id": "NhFCLn1xgDq-"
      }
    },
    {
      "cell_type": "markdown",
      "source": [
        "Портфель состоит из инструментов.\\\n",
        "Инструменты:\n",
        "1. Облигации (5 шт. по 10 млн.руб.)\n",
        "2. Акции (10 шт. по 1 млн. руб.)\n",
        "3. Валюта (доллар и евро, по 100 млн. руб.)\n",
        "\n",
        "Риск-факторы влияют на стоимость инструментов."
      ],
      "metadata": {
        "id": "CkcBuwh3tdKQ"
      }
    },
    {
      "cell_type": "code",
      "source": [
        "def make_predictions_LR(X_train, y_train, X_test):\n",
        "    model = LinearRegression(fit_intercept=False)\n",
        "    model.fit(X_train, y_train)\n",
        "    y_pred = model.predict(X_test)\n",
        "    return y_pred"
      ],
      "metadata": {
        "id": "lIZu_poBnkTv"
      },
      "execution_count": null,
      "outputs": []
    },
    {
      "cell_type": "code",
      "source": [
        "class Fair_value_measurement:\n",
        "    def __init__(self, target_name, factors_name,\n",
        "                 df, last_date,\n",
        "                 n_steps=10, N_traj=100,\n",
        "                 metric='mape'):\n",
        "\n",
        "        self.target_name = target_name\n",
        "        self.risk_factors = factors_name\n",
        "        self.df = df\n",
        "        self.train, self.test = split_data(df, split_date=last_date)\n",
        "        self.n_steps = n_steps\n",
        "        self.N_traj = N_traj\n",
        "\n",
        "        self.metric = metric\n",
        "\n",
        "        self.factors_sim = self.make_simulations_for_risk_factors(self.metric)\n",
        "\n",
        "    def make_simulations_for_risk_factors(self, metric='mape'):\n",
        "        # симулируется n траекторий для каждого риск-фактора на t шагов вперед\n",
        "        dt = np.diff(list(self.df.index))\n",
        "        dW_corr = generate_dW_corr(self.df[self.risk_factors], dt=dt, w0=0, N_traj=self.N_traj)\n",
        "\n",
        "        df_res = {}\n",
        "        for factor, dWn in tqdm(zip(self.risk_factors, dW_corr), total=len(self.risk_factors)):\n",
        "            sm = Stoch_Models(factor_name=factor,\n",
        "                  value_train = self.train[factor].values, value_test = self.test[factor].values,\n",
        "                  t_train = list(self.train.index), t_test = list(self.test.index),\n",
        "                  models=['m1', 'm2', 'm3'], N_traj=self.N_traj, dW_N=dWn)\n",
        "            sm.choose_model(metric=metric, plot_all=0, plot_best=0, print_metric=0)\n",
        "            df_res[factor] = sm.future_simulation(n_steps=self.n_steps, plot=0)\n",
        "\n",
        "        return df_res\n",
        "\n",
        "    def plot_predictions(self, fig_size=(18, 6)):\n",
        "        fig, axs = plt.subplots(1, 1, figsize=fig_size)\n",
        "        axs.plot(self.train.index, self.simulations[m].T, color=self.colors[m], linewidth=0.5)\n",
        "        axs.plot(self.t_train, self.val_train, color=self.colors['factor'], linewidth=1.5, label='factor')\n",
        "        axs.legend()\n",
        "        axs.set_title(self.name)\n",
        "        plt.show()\n",
        "\n",
        "\n",
        "\n",
        "    def make_predictions(self):\n",
        "        x_train = self.train[self.risk_factors]\n",
        "        y_train = self.train[self.target_name]\n",
        "        y_test = self.test[self.target_name]\n",
        "\n",
        "        y_pred_s = []\n",
        "        for i in range(0, self.N_traj):\n",
        "            # формируем x_test из симуляций риск-факторов\n",
        "            x_test = pd.DataFrame(index=self.test.index[:self.n_steps])\n",
        "            for factor in self.factors_sim.keys():\n",
        "                x_test[factor] = self.factors_sim[factor][i]\n",
        "            y_pred = make_predictions_LR(x_train, y_train, x_test)\n",
        "            y_pred_s.append(np.array(y_pred))\n",
        "\n",
        "        self.predictions = np.array(y_pred_s)"
      ],
      "metadata": {
        "id": "H9R5RchhlQa_"
      },
      "execution_count": null,
      "outputs": []
    },
    {
      "cell_type": "markdown",
      "source": [
        "### Облигации"
      ],
      "metadata": {
        "id": "-oMHmYJOiJGQ"
      }
    },
    {
      "cell_type": "code",
      "source": [
        "risk_factors_1 = ['Курс доллара', 'Курс евро', 'Нефть', 'МосБиржа', 'РТС',\n",
        "       'Золото', 'Серебро', 'Платина', 'КБД 0.25', 'КБД 1', 'КБД 5', 'КБД 10', 'КБД 20']\n",
        "\n",
        "print(len(risk_factors_1))"
      ],
      "metadata": {
        "colab": {
          "base_uri": "https://localhost:8080/"
        },
        "id": "a3L2TJDkgHv9",
        "outputId": "1328955f-7c82-495a-8673-cfe1ec058b77"
      },
      "execution_count": null,
      "outputs": [
        {
          "output_type": "stream",
          "name": "stdout",
          "text": [
            "13\n"
          ]
        }
      ]
    },
    {
      "cell_type": "code",
      "source": [
        "bonds = ['ОФЗ_26207', 'ОФЗ_26215', 'ОФЗ_26218', 'ОФЗ_26219', 'ОФЗ_26222']"
      ],
      "metadata": {
        "id": "vrtSyPtnrq1x"
      },
      "execution_count": null,
      "outputs": []
    },
    {
      "cell_type": "markdown",
      "source": [
        "### Акции"
      ],
      "metadata": {
        "id": "gliF95TelDeq"
      }
    },
    {
      "cell_type": "code",
      "source": [
        "stocks = ['Аэрофлот', 'Газпром', 'ГМК Норникель', 'Лукойл', 'МТС', 'ПИК', 'Роснефть', 'Сбербанк', 'Татнефть', 'Яндекс']"
      ],
      "metadata": {
        "id": "v6SaIZ1csI3K"
      },
      "execution_count": null,
      "outputs": []
    },
    {
      "cell_type": "code",
      "source": [
        "FV_sber = Fair_value_measurement(target_name='Сбербанк', factors_name = risk_factors_1, df=data, last_date= '2022-06-11')"
      ],
      "metadata": {
        "colab": {
          "base_uri": "https://localhost:8080/",
          "height": 49,
          "referenced_widgets": [
            "b9820991fff5439cb5cb2655517a94e0",
            "1e3a09fbcf4a4380bb6ec89b6895fc28",
            "9e71b76ec5b649d5bb1f504c971c1dee",
            "112234c242eb42e4b4601cb0aab189ac",
            "88c0e7f501624a8d83a2d72349380c4c",
            "b692c081d38b42f180db1a7d1643ca24",
            "1efdcaa04c144013ad76955112df317e",
            "121c08e76ed74028add4fbb73a5ed513",
            "64b5e49cccdc435da133d0a66c635e2e",
            "852d6f1cb4b7431eb526bc8783da7ab9",
            "dfe3ab4fceb14fd4a0996a6af66ba934"
          ]
        },
        "id": "UOg3hb9aqqyA",
        "outputId": "d47555f5-b985-4857-9d5c-4871d1e0caee"
      },
      "execution_count": null,
      "outputs": [
        {
          "output_type": "display_data",
          "data": {
            "text/plain": [
              "  0%|          | 0/13 [00:00<?, ?it/s]"
            ],
            "application/vnd.jupyter.widget-view+json": {
              "version_major": 2,
              "version_minor": 0,
              "model_id": "b9820991fff5439cb5cb2655517a94e0"
            }
          },
          "metadata": {}
        }
      ]
    },
    {
      "cell_type": "code",
      "source": [
        "FV_sber.make_predictions()"
      ],
      "metadata": {
        "colab": {
          "base_uri": "https://localhost:8080/"
        },
        "id": "7tnhpiJdqu1V",
        "outputId": "8a2e4483-641f-4bbb-b55a-b5980f141928"
      },
      "execution_count": null,
      "outputs": [
        {
          "output_type": "stream",
          "name": "stdout",
          "text": [
            "[array([117.667699  , 116.18609548, 116.8948989 , 112.00678509,\n",
            "       111.67119317, 109.2255894 , 109.33371324, 111.65956959,\n",
            "       109.23216601, 109.77692024]), array([117.667699  , 121.89762589, 119.51686595, 120.73151897,\n",
            "       119.89770834, 115.63127331, 113.93929422, 110.7342465 ,\n",
            "       113.27289564, 111.23945371]), array([117.667699  , 115.37974027, 112.82868846, 118.81631309,\n",
            "       121.17353747, 127.56913953, 130.83751826, 127.93878976,\n",
            "       128.79515661, 129.39800561]), array([117.667699  , 118.62043118, 120.40245721, 118.65229985,\n",
            "       118.87883645, 117.62348555, 118.80585682, 121.73406714,\n",
            "       123.26458463, 121.32665136]), array([117.667699  , 117.65763137, 115.7257318 , 114.33748438,\n",
            "       113.00657216, 114.54645177, 113.61641806, 120.16193081,\n",
            "       118.0462378 , 114.66675427]), array([117.667699  , 115.92023568, 115.46336188, 118.15078424,\n",
            "       119.61084812, 117.89896962, 117.92777612, 117.75633407,\n",
            "       118.26808445, 118.76772157]), array([117.667699  , 116.20782143, 120.38347817, 123.76607972,\n",
            "       120.43256414, 116.78324962, 118.68196214, 116.99550488,\n",
            "       120.38621041, 121.23295633]), array([117.667699  , 120.20364684, 122.7593807 , 119.69671059,\n",
            "       117.00925798, 120.7595418 , 122.74878588, 123.75916653,\n",
            "       125.98825147, 125.73163516]), array([117.667699  , 116.46243655, 122.55081957, 120.31400772,\n",
            "       121.90106853, 123.28213122, 121.21436287, 120.29710079,\n",
            "       118.95052394, 117.50690987]), array([117.667699  , 116.02079484, 114.31220972, 116.75943442,\n",
            "       118.4346601 , 118.97856204, 118.1057946 , 120.93270016,\n",
            "       122.02820827, 119.51055198]), array([117.667699  , 113.93146029, 111.42966139, 112.80927377,\n",
            "       116.69309154, 112.63224083, 108.63404728, 111.79957596,\n",
            "       111.50780377, 113.81076516]), array([117.667699  , 119.45100885, 114.46459706, 119.73264637,\n",
            "       119.85823455, 120.08990787, 120.3164903 , 118.53842387,\n",
            "       118.52630533, 117.50387811]), array([117.667699  , 115.69543001, 119.01905136, 119.15816924,\n",
            "       118.93057483, 119.97987288, 125.61216292, 126.20297278,\n",
            "       125.70206931, 127.58953571]), array([117.667699  , 117.55514843, 114.30065124, 110.46630856,\n",
            "       109.58077945, 105.71312157, 103.09317902, 106.79766268,\n",
            "       110.1563732 , 110.50317207]), array([117.667699  , 119.94119818, 115.37027881, 112.66067602,\n",
            "       115.14867471, 121.04584982, 123.55951709, 125.14891322,\n",
            "       126.71474916, 123.7988924 ]), array([117.667699  , 113.00361982, 111.42309177, 112.75220709,\n",
            "       116.35024199, 116.94608318, 119.00567388, 121.31383111,\n",
            "       120.49558525, 118.14126634]), array([117.667699  , 110.87363554, 109.06882982, 109.64780879,\n",
            "       105.79496775,  97.48287066,  97.76992671,  91.88599674,\n",
            "        90.05138627,  93.49146968]), array([117.667699  , 116.69129981, 118.14204513, 113.80227229,\n",
            "       111.40034144, 112.81900762, 116.68318623, 119.18693207,\n",
            "       119.60508794, 118.26603976]), array([117.667699  , 118.25283481, 121.43039427, 118.23872055,\n",
            "       118.12530735, 122.13587975, 119.44193762, 121.42886217,\n",
            "       119.58953614, 116.54422325]), array([117.667699  , 111.92484571, 116.21548115, 114.15446742,\n",
            "       111.92362683, 113.48018076, 115.68748669, 118.26909249,\n",
            "       120.2072286 , 121.33214833]), array([117.667699  , 123.20511706, 117.90416123, 118.24232191,\n",
            "       117.72129259, 114.88253581, 111.13252571, 110.49028594,\n",
            "       113.02484284, 112.23032581]), array([117.667699  , 116.35654512, 116.07553016, 113.67075514,\n",
            "       116.28205209, 120.37723825, 122.47170189, 121.64557819,\n",
            "       126.03938345, 128.05229178]), array([117.667699  , 120.20529441, 116.95958192, 116.43241996,\n",
            "       116.91347075, 117.19748618, 115.83640032, 116.06860811,\n",
            "       113.1593443 , 108.0705402 ]), array([117.667699  , 116.43904103, 113.92780307, 118.04952477,\n",
            "       119.71041943, 121.84526032, 119.31668701, 120.79647294,\n",
            "       119.90118518, 119.24686256]), array([117.667699  , 121.82475683, 118.1932059 , 120.17664458,\n",
            "       117.83634816, 117.885346  , 115.71645786, 115.96071796,\n",
            "       115.53123425, 111.77642026]), array([117.667699  , 121.66790018, 123.52978805, 123.08376849,\n",
            "       123.59655014, 122.2011528 , 123.9871793 , 125.57487213,\n",
            "       126.19348339, 128.58171001]), array([117.667699  , 116.21947518, 114.07951744, 115.43880786,\n",
            "       116.7468948 , 118.96468063, 115.35184974, 115.02070243,\n",
            "       116.18804582, 117.29489579]), array([117.667699  , 115.28220763, 118.73968899, 124.60990959,\n",
            "       125.48548477, 127.12289048, 125.38794791, 122.11172466,\n",
            "       122.65541912, 123.67676898]), array([117.667699  , 114.31689039, 117.97306817, 118.95477726,\n",
            "       116.80024997, 119.43224594, 115.60209091, 117.96724148,\n",
            "       118.14373192, 116.37092235]), array([117.667699  , 119.26416739, 115.28492056, 109.00457696,\n",
            "       110.50106643, 109.02663451, 108.53162108, 107.89941568,\n",
            "       107.59893118, 107.85861637]), array([117.667699  , 121.00477227, 120.0231359 , 120.97608072,\n",
            "       122.56351353, 122.58424178, 120.43866121, 124.14265098,\n",
            "       125.16957033, 119.07848056]), array([117.667699  , 117.56713627, 115.46382675, 118.32058577,\n",
            "       118.57043544, 120.7950084 , 121.14970001, 119.84490697,\n",
            "       120.7491891 , 125.19835602]), array([117.667699  , 118.80909068, 117.13387552, 117.26450622,\n",
            "       113.93286881, 112.11234744, 111.31684512, 108.97007038,\n",
            "       106.13037562, 104.5779233 ]), array([117.667699  , 120.01472822, 122.5577774 , 121.09618542,\n",
            "       118.54836793, 118.3859693 , 122.24215779, 121.96563314,\n",
            "       124.63341541, 127.42940344]), array([117.667699  , 118.70399874, 116.39808009, 111.23769411,\n",
            "       106.94949917, 105.27276447, 109.05546943, 105.34786596,\n",
            "       104.86427628, 109.33118745]), array([117.667699  , 118.56842927, 123.33412127, 123.51525719,\n",
            "       118.87101476, 116.99072722, 113.11844299, 115.85285523,\n",
            "       118.32219281, 118.67583813]), array([117.667699  , 116.90770002, 116.3761318 , 114.61894625,\n",
            "       115.45156862, 120.63529611, 119.76491773, 119.94397175,\n",
            "       119.4594645 , 123.43735175]), array([117.667699  , 118.81376476, 112.4770822 , 109.51355185,\n",
            "       111.14160802, 108.70437592, 111.3707396 , 110.19044058,\n",
            "       109.62237627, 111.33057821]), array([117.667699  , 118.3709541 , 116.65263866, 117.62757071,\n",
            "       117.15503772, 116.67510939, 115.02657397, 112.88223534,\n",
            "       107.58564349, 107.02299726]), array([117.667699  , 114.15140201, 112.87773863, 110.55834405,\n",
            "       110.56652281, 111.60432337, 113.77210134, 110.51553789,\n",
            "       114.36513753, 111.67693401]), array([117.667699  , 118.52822777, 117.92112349, 115.34594323,\n",
            "       116.09811553, 114.15906513, 112.30804268, 116.14282818,\n",
            "       114.51135901, 119.27732337]), array([117.667699  , 115.17073779, 115.03978148, 109.81527967,\n",
            "       109.66374301, 110.11877193, 107.57873994, 107.6002117 ,\n",
            "       104.58291425, 105.02409005]), array([117.667699  , 118.84692234, 117.6715448 , 117.64202074,\n",
            "       117.44538003, 115.2750831 , 115.22965352, 116.21407044,\n",
            "       116.91836218, 118.43107816]), array([117.667699  , 123.71055666, 122.61297866, 124.49921559,\n",
            "       125.87978293, 127.167014  , 129.27557379, 130.44995298,\n",
            "       132.17452238, 130.42391998]), array([117.667699  , 119.96872833, 119.67974534, 118.93611774,\n",
            "       117.70607822, 115.81173637, 116.91807291, 116.65183502,\n",
            "       118.16430943, 115.88021886]), array([117.667699  , 113.32095536, 114.28368731, 121.86518057,\n",
            "       121.01601867, 124.22534252, 121.30658317, 125.3997729 ,\n",
            "       123.49397497, 119.25903592]), array([117.667699  , 120.06692907, 118.69986203, 117.85168219,\n",
            "       117.75425399, 120.69358866, 116.50627352, 114.69055967,\n",
            "       110.6412282 , 110.23938741]), array([117.667699  , 116.0108868 , 115.45987473, 116.29321819,\n",
            "       112.57122791, 115.01504373, 114.73338655, 117.5144246 ,\n",
            "       117.02930904, 117.27532139]), array([117.667699  , 118.11566597, 118.5394989 , 119.88887053,\n",
            "       121.26460961, 122.50166289, 120.76320575, 123.90761805,\n",
            "       123.23218388, 123.37277054]), array([117.667699  , 117.91680828, 116.35269381, 116.90233217,\n",
            "       118.37103983, 120.49310185, 121.41953514, 121.96283755,\n",
            "       120.25552995, 118.7579751 ]), array([117.667699  , 118.67460367, 119.8176909 , 122.20637423,\n",
            "       118.69565948, 116.68394947, 116.54466928, 115.75979068,\n",
            "       111.02751298, 113.89826849]), array([117.667699  , 119.93765609, 117.64408868, 121.04206379,\n",
            "       125.85153919, 127.64216673, 127.27750977, 132.77202192,\n",
            "       135.97102537, 132.92701593]), array([117.667699  , 123.9989495 , 116.76868515, 119.19948957,\n",
            "       116.67309066, 118.42344775, 117.28709353, 117.97309341,\n",
            "       116.67478641, 113.5401289 ]), array([117.667699  , 116.61636431, 115.43876372, 116.99028858,\n",
            "       111.39871505, 108.22587893, 107.81986595, 105.68145244,\n",
            "       101.73191543, 100.21706405]), array([117.667699  , 119.11265861, 122.02096993, 129.66933001,\n",
            "       129.39736237, 132.47840469, 130.86935852, 126.45615972,\n",
            "       125.86512972, 125.46295133]), array([117.667699  , 118.30603723, 115.87446757, 119.008944  ,\n",
            "       117.31349628, 118.02756446, 121.98481922, 118.13533803,\n",
            "       120.7041996 , 121.4508154 ]), array([117.667699  , 122.16368964, 124.30546149, 125.35533322,\n",
            "       126.51277784, 125.59346179, 120.78216632, 121.94991352,\n",
            "       120.97019615, 118.43655989]), array([117.667699  , 117.63181739, 117.33463656, 115.93634136,\n",
            "       111.8387796 , 113.08755095, 119.50890674, 118.02670683,\n",
            "       118.33427016, 116.54615498]), array([117.667699  , 118.09958748, 115.9447277 , 116.51472408,\n",
            "       117.22182196, 120.85363695, 121.18373553, 118.55514409,\n",
            "       117.70681349, 117.2662533 ]), array([117.667699  , 118.94130853, 115.2649696 , 116.66557948,\n",
            "       117.0884651 , 116.09838698, 116.68121496, 117.02637847,\n",
            "       116.17439687, 117.2436081 ]), array([117.667699  , 118.51035598, 115.4723583 , 117.00286379,\n",
            "       118.02178717, 121.09825219, 123.83307726, 125.0975182 ,\n",
            "       128.40488802, 126.70537561]), array([117.667699  , 116.70797974, 119.50971226, 120.70375957,\n",
            "       120.62557764, 120.65917066, 120.58473973, 127.19382445,\n",
            "       126.00992975, 128.64800437]), array([117.667699  , 119.72942666, 118.68042847, 119.48280811,\n",
            "       120.76597844, 116.63422861, 113.12797028, 111.64023213,\n",
            "       112.59571136, 112.42103   ]), array([117.667699  , 118.2941837 , 120.58034116, 121.76407955,\n",
            "       122.7513688 , 125.16751686, 119.38403115, 117.91091909,\n",
            "       119.62012584, 120.21292794]), array([117.667699  , 118.59003506, 120.76607299, 124.21506881,\n",
            "       122.91518376, 118.76782251, 116.94006495, 117.95553826,\n",
            "       117.53579108, 121.60005084]), array([117.667699  , 119.01070373, 118.49156449, 121.03089656,\n",
            "       118.65869375, 115.10388015, 114.92798557, 118.95404569,\n",
            "       117.88157453, 116.79378018]), array([117.667699  , 120.37397648, 120.85967379, 126.5771963 ,\n",
            "       129.86231659, 132.1986258 , 130.98891784, 127.90452256,\n",
            "       129.63224347, 130.29112074]), array([117.667699  , 115.84888736, 113.56959207, 115.60805513,\n",
            "       118.76123071, 119.69295488, 124.07752352, 121.90592434,\n",
            "       120.41505022, 120.08822139]), array([117.667699  , 120.30182485, 119.54170666, 115.37195704,\n",
            "       114.95622169, 117.55402787, 120.98304739, 117.4294795 ,\n",
            "       116.0056905 , 114.37222931]), array([117.667699  , 121.25734012, 123.77682149, 126.6879497 ,\n",
            "       125.18569916, 122.40691801, 125.47780536, 123.56877567,\n",
            "       127.08473254, 126.30916448]), array([117.667699  , 118.5811337 , 117.82319004, 118.06293644,\n",
            "       119.71734378, 117.31591468, 115.94061164, 118.03070911,\n",
            "       118.20847765, 119.46230759]), array([117.667699  , 117.85518933, 120.11853779, 118.11020664,\n",
            "       114.18893931, 113.09343185, 112.64654283, 109.98249606,\n",
            "       106.72478239, 108.62853146]), array([117.667699  , 116.29399425, 117.74401119, 120.02260938,\n",
            "       119.39261392, 118.42234908, 115.37036033, 112.18308077,\n",
            "       113.01983097, 114.18194332]), array([117.667699  , 117.63262504, 117.76093776, 121.62477806,\n",
            "       123.797357  , 124.86667928, 123.99430394, 124.04015658,\n",
            "       126.6757396 , 122.16268577]), array([117.667699  , 113.84973124, 113.60680517, 113.26430673,\n",
            "       113.1026039 , 111.39964148, 109.53231915, 107.39596762,\n",
            "       106.88800566, 102.92258382]), array([117.667699  , 118.76925266, 116.2109156 , 120.43980552,\n",
            "       120.36570604, 122.39943935, 124.61974327, 124.94797287,\n",
            "       126.14963678, 128.40475633]), array([117.667699  , 117.31879043, 120.5590938 , 124.90218733,\n",
            "       126.99325378, 126.51303521, 126.75821346, 126.60723749,\n",
            "       124.35059835, 126.62045703]), array([117.667699  , 114.55387998, 115.88695539, 118.04519079,\n",
            "       119.29431202, 118.05049079, 115.55770185, 110.13821782,\n",
            "       114.7689675 , 116.56493864]), array([117.667699  , 117.61954236, 118.74968271, 121.18451469,\n",
            "       120.45049852, 121.92430529, 125.6199301 , 129.81321228,\n",
            "       128.7446811 , 126.54878468]), array([117.667699  , 121.04465582, 122.27104312, 122.29498861,\n",
            "       123.84102157, 123.47996888, 126.02532265, 124.5717365 ,\n",
            "       124.55019258, 126.32809667]), array([117.667699  , 121.71769986, 120.87465621, 119.76362562,\n",
            "       119.21464029, 123.93694201, 126.27447352, 129.47227287,\n",
            "       130.90626578, 124.87090704]), array([117.667699  , 114.14060796, 115.95985107, 113.92264766,\n",
            "       113.55407907, 112.05690097, 112.80019272, 111.25883547,\n",
            "       112.40402255, 114.1194717 ]), array([117.667699  , 114.72145453, 119.30780366, 119.99349357,\n",
            "       124.92118899, 120.20009269, 115.76542972, 119.2710655 ,\n",
            "       118.80227645, 117.09878242]), array([117.667699  , 116.41495201, 116.63281326, 113.86898907,\n",
            "       118.34653069, 116.87565773, 112.57996456, 110.00710236,\n",
            "       108.57015722, 107.52550509]), array([117.667699  , 114.53912556, 115.22784221, 118.01520518,\n",
            "       117.32925878, 114.30676331, 117.28376122, 118.63126723,\n",
            "       115.10020543, 112.3672255 ]), array([117.667699  , 116.16366281, 116.50330074, 122.43840352,\n",
            "       121.19634829, 116.82642532, 114.1977021 , 113.40015652,\n",
            "       111.53419659, 110.71574143]), array([117.667699  , 117.66078244, 116.28820187, 116.4531793 ,\n",
            "       114.61754127, 111.92124495, 114.41232186, 109.10278063,\n",
            "       111.36538189, 111.30357906]), array([117.667699  , 121.28522697, 121.75103295, 118.88046813,\n",
            "       117.661145  , 119.14789097, 115.00834656, 117.41817273,\n",
            "       118.77075788, 121.0171313 ]), array([117.667699  , 116.99887529, 120.19273495, 117.96876391,\n",
            "       121.87730998, 119.62130541, 121.11735971, 123.36610145,\n",
            "       123.82890682, 121.41524097]), array([117.667699  , 115.47658282, 112.21089698, 112.11957195,\n",
            "       108.19072527, 108.80312766, 111.27738669, 114.26538624,\n",
            "       116.52904408, 113.4202387 ]), array([117.667699  , 116.13290788, 115.09150287, 113.31657028,\n",
            "       114.0796943 , 116.4915308 , 119.28375577, 117.05110655,\n",
            "       114.54247587, 115.29233057]), array([117.667699  , 117.04966977, 116.53601583, 117.7175663 ,\n",
            "       118.96767063, 118.40035316, 118.44262362, 122.13030814,\n",
            "       120.34728813, 120.55528678]), array([117.667699  , 118.5773014 , 120.861107  , 126.85054457,\n",
            "       125.7359339 , 128.81559933, 128.24151256, 127.00615793,\n",
            "       125.81266559, 129.56464109]), array([117.667699  , 120.88951089, 120.80429477, 121.50586734,\n",
            "       121.38053479, 121.94823306, 120.2838562 , 118.727376  ,\n",
            "       121.38394936, 120.05145018]), array([117.667699  , 119.76159298, 120.63452596, 121.90972794,\n",
            "       121.17757739, 117.07934668, 115.5496599 , 115.24874509,\n",
            "       112.70145552, 112.5768304 ]), array([117.667699  , 116.60022422, 120.5495062 , 123.99505734,\n",
            "       117.31942146, 117.58351612, 114.83577334, 117.18547834,\n",
            "       122.87590292, 122.12235045]), array([117.667699  , 116.09470092, 111.41627678, 112.8666957 ,\n",
            "       114.25225554, 115.48080537, 115.31996708, 111.44983434,\n",
            "       114.18231877, 117.30109941]), array([117.667699  , 115.18472663, 114.7620416 , 113.83820038,\n",
            "       111.63641673, 111.4770235 , 112.5203654 , 112.32737481,\n",
            "       109.1423596 , 109.40725531]), array([117.667699  , 118.3709395 , 117.44547556, 115.9963819 ,\n",
            "       116.8167158 , 117.74045577, 118.17515877, 118.67794586,\n",
            "       120.64144763, 119.84245761]), array([117.667699  , 119.28782127, 118.01880537, 119.30089317,\n",
            "       122.71651312, 122.89579303, 124.31555664, 124.74029838,\n",
            "       122.09417817, 118.18207416])]\n"
          ]
        }
      ]
    },
    {
      "cell_type": "markdown",
      "source": [
        "### Валюта"
      ],
      "metadata": {
        "id": "u46uDXRLlGKF"
      }
    },
    {
      "cell_type": "code",
      "source": [
        "risk_factors_2 = ['Нефть', 'МосБиржа', 'РТС', 'Золото', 'Серебро', 'Платина', 'КБД 0.25', 'КБД 1', 'КБД 5', 'КБД 10', 'КБД 20']"
      ],
      "metadata": {
        "id": "sC-_72rqsX2F"
      },
      "execution_count": null,
      "outputs": []
    }
  ]
}